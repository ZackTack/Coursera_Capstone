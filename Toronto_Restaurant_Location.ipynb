{
 "cells": [
  {
   "cell_type": "markdown",
   "metadata": {},
   "source": [
    "# Toronto Restaurant Locations Recommendation for Startup"
   ]
  },
  {
   "cell_type": "markdown",
   "metadata": {},
   "source": [
    "## Problem Statment:"
   ]
  },
  {
   "cell_type": "markdown",
   "metadata": {},
   "source": [
    "## Sometimes when you would like to start a restaurant in Toronto, you have no clue where would be best locations that maximizes your potential profits and exposure."
   ]
  },
  {
   "cell_type": "markdown",
   "metadata": {},
   "source": [
    "## This project aims to solve for people who want to start up a new restaurant bussiness but worried about location picking as it provides insights for them which neighborhoods are the best candidates"
   ]
  },
  {
   "cell_type": "markdown",
   "metadata": {},
   "source": [
    "---"
   ]
  },
  {
   "cell_type": "markdown",
   "metadata": {},
   "source": [
    "## Stage 1: Data Collection & Preprocessing"
   ]
  },
  {
   "cell_type": "markdown",
   "metadata": {},
   "source": [
    "### Web Scraping from Wikipedia"
   ]
  },
  {
   "cell_type": "markdown",
   "metadata": {},
   "source": [
    "### I used requests to get the html file form the wikipedia page and then tried to find any table contained in that html"
   ]
  },
  {
   "cell_type": "code",
   "execution_count": 1,
   "metadata": {},
   "outputs": [
    {
     "data": {
      "text/html": [
       "<div>\n",
       "<style scoped>\n",
       "    .dataframe tbody tr th:only-of-type {\n",
       "        vertical-align: middle;\n",
       "    }\n",
       "\n",
       "    .dataframe tbody tr th {\n",
       "        vertical-align: top;\n",
       "    }\n",
       "\n",
       "    .dataframe thead th {\n",
       "        text-align: right;\n",
       "    }\n",
       "</style>\n",
       "<table border=\"1\" class=\"dataframe\">\n",
       "  <thead>\n",
       "    <tr style=\"text-align: right;\">\n",
       "      <th></th>\n",
       "      <th>Postal Code</th>\n",
       "      <th>Borough</th>\n",
       "      <th>Neighborhood</th>\n",
       "    </tr>\n",
       "  </thead>\n",
       "  <tbody>\n",
       "    <tr>\n",
       "      <th>0</th>\n",
       "      <td>M1A</td>\n",
       "      <td>Not assigned</td>\n",
       "      <td>NaN</td>\n",
       "    </tr>\n",
       "    <tr>\n",
       "      <th>1</th>\n",
       "      <td>M2A</td>\n",
       "      <td>Not assigned</td>\n",
       "      <td>NaN</td>\n",
       "    </tr>\n",
       "    <tr>\n",
       "      <th>2</th>\n",
       "      <td>M3A</td>\n",
       "      <td>North York</td>\n",
       "      <td>Parkwoods</td>\n",
       "    </tr>\n",
       "    <tr>\n",
       "      <th>3</th>\n",
       "      <td>M4A</td>\n",
       "      <td>North York</td>\n",
       "      <td>Victoria Village</td>\n",
       "    </tr>\n",
       "    <tr>\n",
       "      <th>4</th>\n",
       "      <td>M5A</td>\n",
       "      <td>Downtown Toronto</td>\n",
       "      <td>Regent Park, Harbourfront</td>\n",
       "    </tr>\n",
       "    <tr>\n",
       "      <th>...</th>\n",
       "      <td>...</td>\n",
       "      <td>...</td>\n",
       "      <td>...</td>\n",
       "    </tr>\n",
       "    <tr>\n",
       "      <th>175</th>\n",
       "      <td>M5Z</td>\n",
       "      <td>Not assigned</td>\n",
       "      <td>NaN</td>\n",
       "    </tr>\n",
       "    <tr>\n",
       "      <th>176</th>\n",
       "      <td>M6Z</td>\n",
       "      <td>Not assigned</td>\n",
       "      <td>NaN</td>\n",
       "    </tr>\n",
       "    <tr>\n",
       "      <th>177</th>\n",
       "      <td>M7Z</td>\n",
       "      <td>Not assigned</td>\n",
       "      <td>NaN</td>\n",
       "    </tr>\n",
       "    <tr>\n",
       "      <th>178</th>\n",
       "      <td>M8Z</td>\n",
       "      <td>Etobicoke</td>\n",
       "      <td>Mimico NW, The Queensway West, South of Bloor,...</td>\n",
       "    </tr>\n",
       "    <tr>\n",
       "      <th>179</th>\n",
       "      <td>M9Z</td>\n",
       "      <td>Not assigned</td>\n",
       "      <td>NaN</td>\n",
       "    </tr>\n",
       "  </tbody>\n",
       "</table>\n",
       "<p>180 rows × 3 columns</p>\n",
       "</div>"
      ],
      "text/plain": [
       "    Postal Code           Borough  \\\n",
       "0           M1A      Not assigned   \n",
       "1           M2A      Not assigned   \n",
       "2           M3A        North York   \n",
       "3           M4A        North York   \n",
       "4           M5A  Downtown Toronto   \n",
       "..          ...               ...   \n",
       "175         M5Z      Not assigned   \n",
       "176         M6Z      Not assigned   \n",
       "177         M7Z      Not assigned   \n",
       "178         M8Z         Etobicoke   \n",
       "179         M9Z      Not assigned   \n",
       "\n",
       "                                          Neighborhood  \n",
       "0                                                  NaN  \n",
       "1                                                  NaN  \n",
       "2                                            Parkwoods  \n",
       "3                                     Victoria Village  \n",
       "4                            Regent Park, Harbourfront  \n",
       "..                                                 ...  \n",
       "175                                                NaN  \n",
       "176                                                NaN  \n",
       "177                                                NaN  \n",
       "178  Mimico NW, The Queensway West, South of Bloor,...  \n",
       "179                                                NaN  \n",
       "\n",
       "[180 rows x 3 columns]"
      ]
     },
     "execution_count": 1,
     "metadata": {},
     "output_type": "execute_result"
    }
   ],
   "source": [
    "import requests\n",
    "import pandas as pd\n",
    "from bs4 import BeautifulSoup\n",
    "import numpy as np\n",
    "import plotly.express as px\n",
    "\n",
    "url = \"https://en.wikipedia.org/wiki/List_of_postal_codes_of_Canada:_M\"\n",
    "wiki_page = requests.get(url)\n",
    "soup = BeautifulSoup(wiki_page.content,'lxml')\n",
    "table = soup.find_all('table')[0]\n",
    "df = pd.read_html(str(table))[0]\n",
    "df"
   ]
  },
  {
   "cell_type": "markdown",
   "metadata": {},
   "source": [
    "### Drop all `Postal Code` that were `Not assigned`"
   ]
  },
  {
   "cell_type": "code",
   "execution_count": 3,
   "metadata": {},
   "outputs": [
    {
     "data": {
      "text/html": [
       "<div>\n",
       "<style scoped>\n",
       "    .dataframe tbody tr th:only-of-type {\n",
       "        vertical-align: middle;\n",
       "    }\n",
       "\n",
       "    .dataframe tbody tr th {\n",
       "        vertical-align: top;\n",
       "    }\n",
       "\n",
       "    .dataframe thead th {\n",
       "        text-align: right;\n",
       "    }\n",
       "</style>\n",
       "<table border=\"1\" class=\"dataframe\">\n",
       "  <thead>\n",
       "    <tr style=\"text-align: right;\">\n",
       "      <th></th>\n",
       "      <th>Postal Code</th>\n",
       "      <th>Borough</th>\n",
       "      <th>Neighborhood</th>\n",
       "    </tr>\n",
       "  </thead>\n",
       "  <tbody>\n",
       "    <tr>\n",
       "      <th>2</th>\n",
       "      <td>M3A</td>\n",
       "      <td>North York</td>\n",
       "      <td>Parkwoods</td>\n",
       "    </tr>\n",
       "    <tr>\n",
       "      <th>3</th>\n",
       "      <td>M4A</td>\n",
       "      <td>North York</td>\n",
       "      <td>Victoria Village</td>\n",
       "    </tr>\n",
       "    <tr>\n",
       "      <th>4</th>\n",
       "      <td>M5A</td>\n",
       "      <td>Downtown Toronto</td>\n",
       "      <td>Regent Park, Harbourfront</td>\n",
       "    </tr>\n",
       "    <tr>\n",
       "      <th>5</th>\n",
       "      <td>M6A</td>\n",
       "      <td>North York</td>\n",
       "      <td>Lawrence Manor, Lawrence Heights</td>\n",
       "    </tr>\n",
       "    <tr>\n",
       "      <th>6</th>\n",
       "      <td>M7A</td>\n",
       "      <td>Downtown Toronto</td>\n",
       "      <td>Queen's Park, Ontario Provincial Government</td>\n",
       "    </tr>\n",
       "    <tr>\n",
       "      <th>...</th>\n",
       "      <td>...</td>\n",
       "      <td>...</td>\n",
       "      <td>...</td>\n",
       "    </tr>\n",
       "    <tr>\n",
       "      <th>160</th>\n",
       "      <td>M8X</td>\n",
       "      <td>Etobicoke</td>\n",
       "      <td>The Kingsway, Montgomery Road, Old Mill North</td>\n",
       "    </tr>\n",
       "    <tr>\n",
       "      <th>165</th>\n",
       "      <td>M4Y</td>\n",
       "      <td>Downtown Toronto</td>\n",
       "      <td>Church and Wellesley</td>\n",
       "    </tr>\n",
       "    <tr>\n",
       "      <th>168</th>\n",
       "      <td>M7Y</td>\n",
       "      <td>East Toronto</td>\n",
       "      <td>Business reply mail Processing Centre, South C...</td>\n",
       "    </tr>\n",
       "    <tr>\n",
       "      <th>169</th>\n",
       "      <td>M8Y</td>\n",
       "      <td>Etobicoke</td>\n",
       "      <td>Old Mill South, King's Mill Park, Sunnylea, Hu...</td>\n",
       "    </tr>\n",
       "    <tr>\n",
       "      <th>178</th>\n",
       "      <td>M8Z</td>\n",
       "      <td>Etobicoke</td>\n",
       "      <td>Mimico NW, The Queensway West, South of Bloor,...</td>\n",
       "    </tr>\n",
       "  </tbody>\n",
       "</table>\n",
       "<p>103 rows × 3 columns</p>\n",
       "</div>"
      ],
      "text/plain": [
       "    Postal Code           Borough  \\\n",
       "2           M3A        North York   \n",
       "3           M4A        North York   \n",
       "4           M5A  Downtown Toronto   \n",
       "5           M6A        North York   \n",
       "6           M7A  Downtown Toronto   \n",
       "..          ...               ...   \n",
       "160         M8X         Etobicoke   \n",
       "165         M4Y  Downtown Toronto   \n",
       "168         M7Y      East Toronto   \n",
       "169         M8Y         Etobicoke   \n",
       "178         M8Z         Etobicoke   \n",
       "\n",
       "                                          Neighborhood  \n",
       "2                                            Parkwoods  \n",
       "3                                     Victoria Village  \n",
       "4                            Regent Park, Harbourfront  \n",
       "5                     Lawrence Manor, Lawrence Heights  \n",
       "6          Queen's Park, Ontario Provincial Government  \n",
       "..                                                 ...  \n",
       "160      The Kingsway, Montgomery Road, Old Mill North  \n",
       "165                               Church and Wellesley  \n",
       "168  Business reply mail Processing Centre, South C...  \n",
       "169  Old Mill South, King's Mill Park, Sunnylea, Hu...  \n",
       "178  Mimico NW, The Queensway West, South of Bloor,...  \n",
       "\n",
       "[103 rows x 3 columns]"
      ]
     },
     "execution_count": 3,
     "metadata": {},
     "output_type": "execute_result"
    }
   ],
   "source": [
    "df_drop = df[df.Borough != 'Not assigned']\n",
    "df_drop"
   ]
  },
  {
   "cell_type": "code",
   "execution_count": 4,
   "metadata": {},
   "outputs": [
    {
     "data": {
      "text/plain": [
       "(103, 3)"
      ]
     },
     "execution_count": 4,
     "metadata": {},
     "output_type": "execute_result"
    }
   ],
   "source": [
    "df_drop.shape"
   ]
  },
  {
   "cell_type": "markdown",
   "metadata": {},
   "source": [
    "### Assign Latitudes and Longitudes"
   ]
  },
  {
   "cell_type": "code",
   "execution_count": 5,
   "metadata": {},
   "outputs": [
    {
     "data": {
      "text/html": [
       "<div>\n",
       "<style scoped>\n",
       "    .dataframe tbody tr th:only-of-type {\n",
       "        vertical-align: middle;\n",
       "    }\n",
       "\n",
       "    .dataframe tbody tr th {\n",
       "        vertical-align: top;\n",
       "    }\n",
       "\n",
       "    .dataframe thead th {\n",
       "        text-align: right;\n",
       "    }\n",
       "</style>\n",
       "<table border=\"1\" class=\"dataframe\">\n",
       "  <thead>\n",
       "    <tr style=\"text-align: right;\">\n",
       "      <th></th>\n",
       "      <th>Postal Code</th>\n",
       "      <th>Latitude</th>\n",
       "      <th>Longitude</th>\n",
       "    </tr>\n",
       "  </thead>\n",
       "  <tbody>\n",
       "    <tr>\n",
       "      <th>0</th>\n",
       "      <td>M1B</td>\n",
       "      <td>43.806686</td>\n",
       "      <td>-79.194353</td>\n",
       "    </tr>\n",
       "    <tr>\n",
       "      <th>1</th>\n",
       "      <td>M1C</td>\n",
       "      <td>43.784535</td>\n",
       "      <td>-79.160497</td>\n",
       "    </tr>\n",
       "    <tr>\n",
       "      <th>2</th>\n",
       "      <td>M1E</td>\n",
       "      <td>43.763573</td>\n",
       "      <td>-79.188711</td>\n",
       "    </tr>\n",
       "    <tr>\n",
       "      <th>3</th>\n",
       "      <td>M1G</td>\n",
       "      <td>43.770992</td>\n",
       "      <td>-79.216917</td>\n",
       "    </tr>\n",
       "    <tr>\n",
       "      <th>4</th>\n",
       "      <td>M1H</td>\n",
       "      <td>43.773136</td>\n",
       "      <td>-79.239476</td>\n",
       "    </tr>\n",
       "  </tbody>\n",
       "</table>\n",
       "</div>"
      ],
      "text/plain": [
       "  Postal Code   Latitude  Longitude\n",
       "0         M1B  43.806686 -79.194353\n",
       "1         M1C  43.784535 -79.160497\n",
       "2         M1E  43.763573 -79.188711\n",
       "3         M1G  43.770992 -79.216917\n",
       "4         M1H  43.773136 -79.239476"
      ]
     },
     "execution_count": 5,
     "metadata": {},
     "output_type": "execute_result"
    }
   ],
   "source": [
    "ll = pd.read_csv('Geospatial_Coordinates.csv')\n",
    "ll.head()"
   ]
  },
  {
   "cell_type": "code",
   "execution_count": 6,
   "metadata": {},
   "outputs": [
    {
     "data": {
      "text/html": [
       "<div>\n",
       "<style scoped>\n",
       "    .dataframe tbody tr th:only-of-type {\n",
       "        vertical-align: middle;\n",
       "    }\n",
       "\n",
       "    .dataframe tbody tr th {\n",
       "        vertical-align: top;\n",
       "    }\n",
       "\n",
       "    .dataframe thead th {\n",
       "        text-align: right;\n",
       "    }\n",
       "</style>\n",
       "<table border=\"1\" class=\"dataframe\">\n",
       "  <thead>\n",
       "    <tr style=\"text-align: right;\">\n",
       "      <th></th>\n",
       "      <th>Postal Code</th>\n",
       "      <th>Borough</th>\n",
       "      <th>Neighborhood</th>\n",
       "      <th>Latitude</th>\n",
       "      <th>Longitude</th>\n",
       "    </tr>\n",
       "  </thead>\n",
       "  <tbody>\n",
       "    <tr>\n",
       "      <th>0</th>\n",
       "      <td>M3A</td>\n",
       "      <td>North York</td>\n",
       "      <td>Parkwoods</td>\n",
       "      <td>43.753259</td>\n",
       "      <td>-79.329656</td>\n",
       "    </tr>\n",
       "    <tr>\n",
       "      <th>1</th>\n",
       "      <td>M4A</td>\n",
       "      <td>North York</td>\n",
       "      <td>Victoria Village</td>\n",
       "      <td>43.725882</td>\n",
       "      <td>-79.315572</td>\n",
       "    </tr>\n",
       "    <tr>\n",
       "      <th>2</th>\n",
       "      <td>M5A</td>\n",
       "      <td>Downtown Toronto</td>\n",
       "      <td>Regent Park, Harbourfront</td>\n",
       "      <td>43.654260</td>\n",
       "      <td>-79.360636</td>\n",
       "    </tr>\n",
       "    <tr>\n",
       "      <th>3</th>\n",
       "      <td>M6A</td>\n",
       "      <td>North York</td>\n",
       "      <td>Lawrence Manor, Lawrence Heights</td>\n",
       "      <td>43.718518</td>\n",
       "      <td>-79.464763</td>\n",
       "    </tr>\n",
       "    <tr>\n",
       "      <th>4</th>\n",
       "      <td>M7A</td>\n",
       "      <td>Downtown Toronto</td>\n",
       "      <td>Queen's Park, Ontario Provincial Government</td>\n",
       "      <td>43.662301</td>\n",
       "      <td>-79.389494</td>\n",
       "    </tr>\n",
       "  </tbody>\n",
       "</table>\n",
       "</div>"
      ],
      "text/plain": [
       "  Postal Code           Borough                                 Neighborhood  \\\n",
       "0         M3A        North York                                    Parkwoods   \n",
       "1         M4A        North York                             Victoria Village   \n",
       "2         M5A  Downtown Toronto                    Regent Park, Harbourfront   \n",
       "3         M6A        North York             Lawrence Manor, Lawrence Heights   \n",
       "4         M7A  Downtown Toronto  Queen's Park, Ontario Provincial Government   \n",
       "\n",
       "    Latitude  Longitude  \n",
       "0  43.753259 -79.329656  \n",
       "1  43.725882 -79.315572  \n",
       "2  43.654260 -79.360636  \n",
       "3  43.718518 -79.464763  \n",
       "4  43.662301 -79.389494  "
      ]
     },
     "execution_count": 6,
     "metadata": {},
     "output_type": "execute_result"
    }
   ],
   "source": [
    "df_combine = df_drop.merge(ll,on='Postal Code')\n",
    "df_combine.head()"
   ]
  },
  {
   "cell_type": "markdown",
   "metadata": {},
   "source": [
    "### Display neighborhood on map with blue marker"
   ]
  },
  {
   "cell_type": "code",
   "execution_count": 5,
   "metadata": {},
   "outputs": [],
   "source": [
    "import folium\n",
    "latitude = 43.651070\n",
    "longitude = -79.347015\n",
    "toronto_map = folium.Map(location=[latitude,longitude],zoom_start=11)"
   ]
  },
  {
   "cell_type": "code",
   "execution_count": 8,
   "metadata": {},
   "outputs": [
    {
     "data": {
      "text/html": [
       "<div style=\"width:100%;\"><div style=\"position:relative;width:100%;height:0;padding-bottom:60%;\"><span style=\"color:#565656\">Make this Notebook Trusted to load map: File -> Trust Notebook</span><iframe src=\"about:blank\" style=\"position:absolute;width:100%;height:100%;left:0;top:0;border:none !important;\" data-html=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 onload=\"this.contentDocument.open();this.contentDocument.write(atob(this.getAttribute('data-html')));this.contentDocument.close();\" allowfullscreen webkitallowfullscreen mozallowfullscreen></iframe></div></div>"
      ],
      "text/plain": [
       "<folium.folium.Map at 0x24c7f03d148>"
      ]
     },
     "execution_count": 8,
     "metadata": {},
     "output_type": "execute_result"
    }
   ],
   "source": [
    "for lat, lng, borough, neighborhood in zip(df_combine['Latitude'], df_combine['Longitude'], df_combine['Borough'], df_combine['Neighborhood']):\n",
    "    label = '{}, {}'.format(neighborhood, borough)\n",
    "    label = folium.Popup(label, parse_html=True)\n",
    "    folium.CircleMarker(\n",
    "        [lat, lng],\n",
    "        radius=5,\n",
    "        popup=label,\n",
    "        color='blue',\n",
    "        fill=True,\n",
    "        fill_color='#3186cc',\n",
    "        fill_opacity=0.7,\n",
    "        parse_html=False).add_to(toronto_map)\n",
    "    \n",
    "toronto_map"
   ]
  },
  {
   "cell_type": "markdown",
   "metadata": {},
   "source": [
    "### Get nearby venues for each neighborhood (limit to 10 venues per area in the return list)"
   ]
  },
  {
   "cell_type": "code",
   "execution_count": 3,
   "metadata": {},
   "outputs": [],
   "source": [
    "client_id = \"WGENET1SWCZBUQYDFZDF5DGW5AIIE1THJCXUCQ1DW4PTHJNH\"\n",
    "client_secret = \"CHCVAO54RWBGKU0IXZGZMVZCEG4DBCAPLOGNEWQNNW3V2MQJ\"\n",
    "version = \"20180605\""
   ]
  },
  {
   "cell_type": "code",
   "execution_count": 8,
   "metadata": {},
   "outputs": [
    {
     "data": {
      "text/plain": [
       "{'meta': {'code': 200, 'requestId': '5ed170820cc1fd001b7cb6b9'},\n",
       " 'response': {'warning': {'text': 'There aren\\'t a lot of results for \"Restaurant.\" Try something more general, reset your filters, or expand the search area.'},\n",
       "  'headerLocation': 'Downtown Toronto',\n",
       "  'headerFullLocation': 'Downtown Toronto, Toronto',\n",
       "  'headerLocationGranularity': 'neighborhood',\n",
       "  'query': 'restaurant',\n",
       "  'totalResults': 1,\n",
       "  'suggestedBounds': {'ne': {'lat': 43.6555700045, 'lng': -79.34080732988114},\n",
       "   'sw': {'lat': 43.646569995499995, 'lng': -79.35322267011885}},\n",
       "  'groups': [{'type': 'Recommended Places',\n",
       "    'name': 'recommended',\n",
       "    'items': [{'reasons': {'count': 0,\n",
       "       'items': [{'summary': 'This spot is popular',\n",
       "         'type': 'general',\n",
       "         'reasonName': 'globalInteractionReason'}]},\n",
       "      'venue': {'id': '4bb0eb64f964a520206a3ce3',\n",
       "       'name': 'Bar Rocket',\n",
       "       'location': {'address': '225 Commissioners St.',\n",
       "        'lat': 43.64918,\n",
       "        'lng': -79.342841,\n",
       "        'labeledLatLngs': [{'label': 'display',\n",
       "          'lat': 43.64918,\n",
       "          'lng': -79.342841}],\n",
       "        'distance': 396,\n",
       "        'postalCode': 'M4m 0a1',\n",
       "        'cc': 'CA',\n",
       "        'city': 'Toronto',\n",
       "        'state': 'ON',\n",
       "        'country': 'Canada',\n",
       "        'formattedAddress': ['225 Commissioners St.',\n",
       "         'Toronto ON M4m 0a1',\n",
       "         'Canada']},\n",
       "       'categories': [{'id': '4bf58dd8d48988d16d941735',\n",
       "         'name': 'Café',\n",
       "         'pluralName': 'Cafés',\n",
       "         'shortName': 'Café',\n",
       "         'icon': {'prefix': 'https://ss3.4sqi.net/img/categories_v2/food/cafe_',\n",
       "          'suffix': '.png'},\n",
       "         'primary': True}],\n",
       "       'photos': {'count': 0, 'groups': []}},\n",
       "      'referralId': 'e-0-4bb0eb64f964a520206a3ce3-0'}]}]}}"
      ]
     },
     "execution_count": 8,
     "metadata": {},
     "output_type": "execute_result"
    }
   ],
   "source": [
    "url = 'https://api.foursquare.com/v2/venues/explore?&client_id={}&client_secret={}&v={}&ll={},{}&query={}&radius={}&limit={}'.format(\n",
    "            client_id, \n",
    "            client_secret, \n",
    "            version, \n",
    "            latitude, \n",
    "            longitude, \n",
    "            'Restaurant',\n",
    "            500, \n",
    "            10)\n",
    "            \n",
    "# make the GET request\n",
    "results = requests.get(url).json()\n",
    "results"
   ]
  },
  {
   "cell_type": "code",
   "execution_count": 10,
   "metadata": {},
   "outputs": [],
   "source": [
    "def getNearbyVenues(names, latitudes, longitudes, radius=500):\n",
    "    \n",
    "    venues_list=[]\n",
    "    for name, lat, lng in zip(names, latitudes, longitudes):           \n",
    "        # create the API request URL\n",
    "        url = 'https://api.foursquare.com/v2/venues/explore?&client_id={}&client_secret={}&v={}&ll={},{}&query={}&radius={}&limit={}'.format(\n",
    "            client_id, \n",
    "            client_secret, \n",
    "            version, \n",
    "            lat, \n",
    "            lng, \n",
    "            'Restaurant',\n",
    "            radius, \n",
    "            10)\n",
    "            \n",
    "        # make the GET request\n",
    "        results = requests.get(url).json()[\"response\"]['groups'][0]['items']\n",
    "        \n",
    "        # return only relevant information for each nearby venue\n",
    "        venues_list.append([(\n",
    "            name, \n",
    "            lat, \n",
    "            lng, \n",
    "            v['venue']['name'], \n",
    "            v['venue']['location']['lat'], \n",
    "            v['venue']['location']['lng'],  \n",
    "            v['venue']['categories'][0]['name']) for v in results])\n",
    "\n",
    "    nearby_venues = pd.DataFrame([item for venue_list in venues_list for item in venue_list])\n",
    "    nearby_venues.columns = ['Neighborhood', \n",
    "                  'Neighborhood Latitude', \n",
    "                  'Neighborhood Longitude', \n",
    "                  'Venue', \n",
    "                  'Venue Latitude', \n",
    "                  'Venue Longitude', \n",
    "                  'Venue Category']\n",
    "    \n",
    "    return(nearby_venues)"
   ]
  },
  {
   "cell_type": "code",
   "execution_count": 12,
   "metadata": {},
   "outputs": [],
   "source": [
    "venues = getNearbyVenues(names=df_combine['Neighborhood'],latitudes=df_combine.Latitude,longitudes=df_combine.Longitude)"
   ]
  },
  {
   "cell_type": "markdown",
   "metadata": {},
   "source": [
    "### Venue list overview"
   ]
  },
  {
   "cell_type": "code",
   "execution_count": 13,
   "metadata": {},
   "outputs": [
    {
     "data": {
      "text/plain": [
       "(549, 7)"
      ]
     },
     "execution_count": 13,
     "metadata": {},
     "output_type": "execute_result"
    }
   ],
   "source": [
    "venues.shape"
   ]
  },
  {
   "cell_type": "markdown",
   "metadata": {},
   "source": [
    "- In total `428` datapoints returned"
   ]
  },
  {
   "cell_type": "code",
   "execution_count": 14,
   "metadata": {},
   "outputs": [
    {
     "data": {
      "text/html": [
       "<div>\n",
       "<style scoped>\n",
       "    .dataframe tbody tr th:only-of-type {\n",
       "        vertical-align: middle;\n",
       "    }\n",
       "\n",
       "    .dataframe tbody tr th {\n",
       "        vertical-align: top;\n",
       "    }\n",
       "\n",
       "    .dataframe thead th {\n",
       "        text-align: right;\n",
       "    }\n",
       "</style>\n",
       "<table border=\"1\" class=\"dataframe\">\n",
       "  <thead>\n",
       "    <tr style=\"text-align: right;\">\n",
       "      <th></th>\n",
       "      <th>Neighborhood</th>\n",
       "      <th>Neighborhood Latitude</th>\n",
       "      <th>Neighborhood Longitude</th>\n",
       "      <th>Venue</th>\n",
       "      <th>Venue Latitude</th>\n",
       "      <th>Venue Longitude</th>\n",
       "      <th>Venue Category</th>\n",
       "    </tr>\n",
       "  </thead>\n",
       "  <tbody>\n",
       "    <tr>\n",
       "      <th>0</th>\n",
       "      <td>Parkwoods</td>\n",
       "      <td>43.753259</td>\n",
       "      <td>-79.329656</td>\n",
       "      <td>KFC</td>\n",
       "      <td>43.754387</td>\n",
       "      <td>-79.333021</td>\n",
       "      <td>Fast Food Restaurant</td>\n",
       "    </tr>\n",
       "    <tr>\n",
       "      <th>1</th>\n",
       "      <td>Parkwoods</td>\n",
       "      <td>43.753259</td>\n",
       "      <td>-79.329656</td>\n",
       "      <td>Bella Vita Catering &amp; Private Chef Service</td>\n",
       "      <td>43.756651</td>\n",
       "      <td>-79.331524</td>\n",
       "      <td>BBQ Joint</td>\n",
       "    </tr>\n",
       "    <tr>\n",
       "      <th>2</th>\n",
       "      <td>Victoria Village</td>\n",
       "      <td>43.725882</td>\n",
       "      <td>-79.315572</td>\n",
       "      <td>Portugril</td>\n",
       "      <td>43.725819</td>\n",
       "      <td>-79.312785</td>\n",
       "      <td>Portuguese Restaurant</td>\n",
       "    </tr>\n",
       "    <tr>\n",
       "      <th>3</th>\n",
       "      <td>Victoria Village</td>\n",
       "      <td>43.725882</td>\n",
       "      <td>-79.315572</td>\n",
       "      <td>The Frig</td>\n",
       "      <td>43.727051</td>\n",
       "      <td>-79.317418</td>\n",
       "      <td>French Restaurant</td>\n",
       "    </tr>\n",
       "    <tr>\n",
       "      <th>4</th>\n",
       "      <td>Victoria Village</td>\n",
       "      <td>43.725882</td>\n",
       "      <td>-79.315572</td>\n",
       "      <td>Pizza Nova</td>\n",
       "      <td>43.725824</td>\n",
       "      <td>-79.312860</td>\n",
       "      <td>Pizza Place</td>\n",
       "    </tr>\n",
       "  </tbody>\n",
       "</table>\n",
       "</div>"
      ],
      "text/plain": [
       "       Neighborhood  Neighborhood Latitude  Neighborhood Longitude  \\\n",
       "0         Parkwoods              43.753259              -79.329656   \n",
       "1         Parkwoods              43.753259              -79.329656   \n",
       "2  Victoria Village              43.725882              -79.315572   \n",
       "3  Victoria Village              43.725882              -79.315572   \n",
       "4  Victoria Village              43.725882              -79.315572   \n",
       "\n",
       "                                        Venue  Venue Latitude  \\\n",
       "0                                         KFC       43.754387   \n",
       "1  Bella Vita Catering & Private Chef Service       43.756651   \n",
       "2                                   Portugril       43.725819   \n",
       "3                                    The Frig       43.727051   \n",
       "4                                  Pizza Nova       43.725824   \n",
       "\n",
       "   Venue Longitude         Venue Category  \n",
       "0       -79.333021   Fast Food Restaurant  \n",
       "1       -79.331524              BBQ Joint  \n",
       "2       -79.312785  Portuguese Restaurant  \n",
       "3       -79.317418      French Restaurant  \n",
       "4       -79.312860            Pizza Place  "
      ]
     },
     "execution_count": 14,
     "metadata": {},
     "output_type": "execute_result"
    }
   ],
   "source": [
    "venues.head()"
   ]
  },
  {
   "cell_type": "code",
   "execution_count": 20,
   "metadata": {},
   "outputs": [
    {
     "data": {
      "application/vnd.plotly.v1+json": {
       "config": {
        "plotlyServerURL": "https://plot.ly"
       },
       "data": [
        {
         "alignmentgroup": "True",
         "bingroup": "x",
         "hovertemplate": "Venue Category=%{x}<br>count=%{y}<extra></extra>",
         "legendgroup": "",
         "marker": {
          "color": "#636efa"
         },
         "name": "",
         "offsetgroup": "",
         "orientation": "v",
         "showlegend": false,
         "type": "histogram",
         "x": [
          "Fast Food Restaurant",
          "BBQ Joint",
          "Portuguese Restaurant",
          "French Restaurant",
          "Pizza Place",
          "Breakfast Spot",
          "Restaurant",
          "Breakfast Spot",
          "Bakery",
          "French Restaurant",
          "Café",
          "Food Truck",
          "Café",
          "Bakery",
          "Greek Restaurant",
          "Vietnamese Restaurant",
          "Food Truck",
          "Hot Dog Joint",
          "Sushi Restaurant",
          "Italian Restaurant",
          "Creperie",
          "Mexican Restaurant",
          "Burrito Place",
          "Persian Restaurant",
          "Burger Joint",
          "Sushi Restaurant",
          "Diner",
          "Sushi Restaurant",
          "Pizza Place",
          "Fast Food Restaurant",
          "Indian Restaurant",
          "Caribbean Restaurant",
          "Café",
          "Japanese Restaurant",
          "Restaurant",
          "Gastropub",
          "Pizza Place",
          "Café",
          "Breakfast Spot",
          "Pizza Place",
          "Fast Food Restaurant",
          "Café",
          "Burrito Place",
          "Café",
          "Thai Restaurant",
          "Steakhouse",
          "Mexican Restaurant",
          "Sandwich Place",
          "Café",
          "Ramen Restaurant",
          "Restaurant",
          "Japanese Restaurant",
          "Asian Restaurant",
          "Sushi Restaurant",
          "Pizza Place",
          "Pizza Place",
          "Filipino Restaurant",
          "Italian Restaurant",
          "Restaurant",
          "Japanese Restaurant",
          "Asian Restaurant",
          "Dim Sum Restaurant",
          "Sandwich Place",
          "Chinese Restaurant",
          "Asian Restaurant",
          "Restaurant",
          "Café",
          "Diner",
          "Snack Place",
          "Asian Restaurant",
          "Café",
          "Japanese Restaurant",
          "Restaurant",
          "Creperie",
          "Food Truck",
          "Middle Eastern Restaurant",
          "Gastropub",
          "Gastropub",
          "Italian Restaurant",
          "BBQ Joint",
          "American Restaurant",
          "Restaurant",
          "Café",
          "Fried Chicken Joint",
          "Deli / Bodega",
          "Bakery",
          "Restaurant",
          "Mexican Restaurant",
          "Breakfast Spot",
          "Pizza Place",
          "Pizza Place",
          "Burger Joint",
          "Asian Restaurant",
          "Restaurant",
          "Vegetarian / Vegan Restaurant",
          "French Restaurant",
          "Seafood Restaurant",
          "Breakfast Spot",
          "Seafood Restaurant",
          "Bistro",
          "Bakery",
          "Thai Restaurant",
          "Café",
          "Café",
          "Korean Restaurant",
          "Mexican Restaurant",
          "Indian Restaurant",
          "Fish & Chips Shop",
          "Restaurant",
          "Sushi Restaurant",
          "Burger Joint",
          "Sandwich Place",
          "Burger Joint",
          "Breakfast Spot",
          "Mexican Restaurant",
          "Bagel Shop",
          "Sushi Restaurant",
          "Middle Eastern Restaurant",
          "Modern European Restaurant",
          "Gastropub",
          "Japanese Restaurant",
          "Pizza Place",
          "Italian Restaurant",
          "Ramen Restaurant",
          "Japanese Restaurant",
          "Sushi Restaurant",
          "Chinese Restaurant",
          "Café",
          "Italian Restaurant",
          "Café",
          "Diner",
          "Restaurant",
          "Restaurant",
          "Japanese Restaurant",
          "Hakka Restaurant",
          "Caribbean Restaurant",
          "Thai Restaurant",
          "Bakery",
          "Fried Chicken Joint",
          "Fast Food Restaurant",
          "Mediterranean Restaurant",
          "Deli / Bodega",
          "Restaurant",
          "Middle Eastern Restaurant",
          "Diner",
          "Sushi Restaurant",
          "Fried Chicken Joint",
          "Restaurant",
          "Pizza Place",
          "Chinese Restaurant",
          "Indian Restaurant",
          "Burger Joint",
          "Restaurant",
          "Indian Restaurant",
          "Pizza Place",
          "Fast Food Restaurant",
          "Middle Eastern Restaurant",
          "Sandwich Place",
          "Pizza Place",
          "Restaurant",
          "Vegetarian / Vegan Restaurant",
          "Restaurant",
          "Café",
          "Steakhouse",
          "Seafood Restaurant",
          "Asian Restaurant",
          "Food Court",
          "Greek Restaurant",
          "Pizza Place",
          "Seafood Restaurant",
          "Middle Eastern Restaurant",
          "Bakery",
          "Bakery",
          "Café",
          "Pizza Place",
          "Portuguese Restaurant",
          "Pizza Place",
          "Brazilian Restaurant",
          "Pizza Place",
          "Bakery",
          "Burger Joint",
          "Restaurant",
          "American Restaurant",
          "Restaurant",
          "Japanese Restaurant",
          "Food Court",
          "Fast Food Restaurant",
          "Asian Restaurant",
          "Burrito Place",
          "Caribbean Restaurant",
          "Pizza Place",
          "Vietnamese Restaurant",
          "Falafel Restaurant",
          "Greek Restaurant",
          "Pizza Place",
          "Salad Place",
          "New American Restaurant",
          "Café",
          "Japanese Restaurant",
          "Deli / Bodega",
          "Chinese Restaurant",
          "Italian Restaurant",
          "Café",
          "Bistro",
          "Fried Chicken Joint",
          "Pizza Place",
          "Korean Restaurant",
          "Asian Restaurant",
          "Cuban Restaurant",
          "New American Restaurant",
          "Greek Restaurant",
          "Vietnamese Restaurant",
          "French Restaurant",
          "Japanese Restaurant",
          "Asian Restaurant",
          "Filipino Restaurant",
          "Chinese Restaurant",
          "Restaurant",
          "Chinese Restaurant",
          "Café",
          "Asian Restaurant",
          "Japanese Restaurant",
          "Snack Place",
          "Greek Restaurant",
          "Italian Restaurant",
          "Greek Restaurant",
          "Greek Restaurant",
          "Italian Restaurant",
          "Restaurant",
          "Pizza Place",
          "Greek Restaurant",
          "Greek Restaurant",
          "Greek Restaurant",
          "Restaurant",
          "Café",
          "Bakery",
          "Café",
          "Gastropub",
          "Deli / Bodega",
          "Café",
          "Japanese Restaurant",
          "Deli / Bodega",
          "Gluten-free Restaurant",
          "Italian Restaurant",
          "Bakery",
          "Café",
          "Restaurant",
          "Breakfast Spot",
          "Breakfast Spot",
          "Café",
          "Japanese Restaurant",
          "Sandwich Place",
          "Burrito Place",
          "Restaurant",
          "Bakery",
          "Bakery",
          "Chinese Restaurant",
          "Indian Restaurant",
          "Cafeteria",
          "Asian Restaurant",
          "Fish & Chips Shop",
          "Fast Food Restaurant",
          "Sushi Restaurant",
          "Italian Restaurant",
          "Steakhouse",
          "Burrito Place",
          "Restaurant",
          "Restaurant",
          "Fast Food Restaurant",
          "Pizza Place",
          "Café",
          "Restaurant",
          "Bakery",
          "Café",
          "Café",
          "Café",
          "Gastropub",
          "Deli / Bodega",
          "Japanese Restaurant",
          "American Restaurant",
          "Bakery",
          "Deli / Bodega",
          "Pizza Place",
          "Food Truck",
          "Caribbean Restaurant",
          "American Restaurant",
          "Korean Restaurant",
          "Food Truck",
          "Restaurant",
          "Bakery",
          "Italian Restaurant",
          "Seafood Restaurant",
          "American Restaurant",
          "Café",
          "Middle Eastern Restaurant",
          "Comfort Food Restaurant",
          "Café",
          "Thai Restaurant",
          "Café",
          "Restaurant",
          "Thai Restaurant",
          "Indian Restaurant",
          "Italian Restaurant",
          "Sushi Restaurant",
          "Comfort Food Restaurant",
          "Greek Restaurant",
          "American Restaurant",
          "Restaurant",
          "Restaurant",
          "Restaurant",
          "Fried Chicken Joint",
          "Fast Food Restaurant",
          "Fast Food Restaurant",
          "Café",
          "Pizza Place",
          "Japanese Restaurant",
          "Ramen Restaurant",
          "Steakhouse",
          "Indonesian Restaurant",
          "Café",
          "Japanese Restaurant",
          "Ramen Restaurant",
          "Sushi Restaurant",
          "Sandwich Place",
          "Middle Eastern Restaurant",
          "Restaurant",
          "Dim Sum Restaurant",
          "Caribbean Restaurant",
          "Pizza Place",
          "Restaurant",
          "Breakfast Spot",
          "Indian Restaurant",
          "Chinese Restaurant",
          "Indian Restaurant",
          "Vietnamese Restaurant",
          "Breakfast Spot",
          "Restaurant",
          "Asian Restaurant",
          "Pizza Place",
          "French Restaurant",
          "Restaurant",
          "Restaurant",
          "Sushi Restaurant",
          "Italian Restaurant",
          "Gastropub",
          "Restaurant",
          "Mexican Restaurant",
          "Thai Restaurant",
          "Thai Restaurant",
          "Café",
          "Diner",
          "Bakery",
          "Cajun / Creole Restaurant",
          "Chinese Restaurant",
          "Restaurant",
          "Sandwich Place",
          "Pizza Place",
          "Middle Eastern Restaurant",
          "Bakery",
          "Breakfast Spot",
          "Restaurant",
          "Middle Eastern Restaurant",
          "Vietnamese Restaurant",
          "Middle Eastern Restaurant",
          "Pizza Place",
          "Pizza Place",
          "Bakery",
          "Diner",
          "Restaurant",
          "Mexican Restaurant",
          "Chinese Restaurant",
          "Fast Food Restaurant",
          "Café",
          "Italian Restaurant",
          "Seafood Restaurant",
          "Bagel Shop",
          "Indian Restaurant",
          "Café",
          "American Restaurant",
          "Donut Shop",
          "Vegetarian / Vegan Restaurant",
          "Burger Joint",
          "Middle Eastern Restaurant",
          "BBQ Joint",
          "Café",
          "Sandwich Place",
          "Cuban Restaurant",
          "Eastern European Restaurant",
          "Italian Restaurant",
          "Restaurant",
          "Breakfast Spot",
          "Deli / Bodega",
          "Breakfast Spot",
          "Burrito Place",
          "Restaurant",
          "Fried Chicken Joint",
          "American Restaurant",
          "Middle Eastern Restaurant",
          "Mediterranean Restaurant",
          "Restaurant",
          "Pizza Place",
          "Breakfast Spot",
          "Latin American Restaurant",
          "Chinese Restaurant",
          "Café",
          "Indian Restaurant",
          "Pizza Place",
          "Seafood Restaurant",
          "Sushi Restaurant",
          "Italian Restaurant",
          "Italian Restaurant",
          "Thai Restaurant",
          "Sandwich Place",
          "Sushi Restaurant",
          "Japanese Restaurant",
          "Restaurant",
          "Italian Restaurant",
          "French Restaurant",
          "Bakery",
          "Sushi Restaurant",
          "Restaurant",
          "Bakery",
          "Café",
          "Comfort Food Restaurant",
          "Food",
          "Café",
          "Fish & Chips Shop",
          "Sushi Restaurant",
          "Burrito Place",
          "Italian Restaurant",
          "Falafel Restaurant",
          "French Restaurant",
          "Sushi Restaurant",
          "Italian Restaurant",
          "Italian Restaurant",
          "Chinese Restaurant",
          "Noodle House",
          "Thai Restaurant",
          "Fried Chicken Joint",
          "Pizza Place",
          "Fast Food Restaurant",
          "Pizza Place",
          "Hot Dog Joint",
          "Restaurant",
          "Italian Restaurant",
          "Bakery",
          "Mexican Restaurant",
          "Café",
          "Café",
          "Café",
          "Vietnamese Restaurant",
          "Vietnamese Restaurant",
          "Caribbean Restaurant",
          "Belgian Restaurant",
          "Mexican Restaurant",
          "Bakery",
          "Asian Restaurant",
          "Sushi Restaurant",
          "Restaurant",
          "American Restaurant",
          "Fried Chicken Joint",
          "Vietnamese Restaurant",
          "Pizza Place",
          "Bagel Shop",
          "Sandwich Place",
          "Tapas Restaurant",
          "American Restaurant",
          "Restaurant",
          "Pizza Place",
          "Bakery",
          "Café",
          "American Restaurant",
          "Fried Chicken Joint",
          "Seafood Restaurant",
          "Café",
          "Mexican Restaurant",
          "Pizza Place",
          "Restaurant",
          "Fried Chicken Joint",
          "Pizza Place",
          "Pizza Place",
          "Japanese Restaurant",
          "Chinese Restaurant",
          "Chinese Restaurant",
          "Restaurant",
          "Restaurant",
          "Breakfast Spot",
          "Pizza Place",
          "Noodle House",
          "Fast Food Restaurant",
          "Burger Joint",
          "Japanese Restaurant",
          "Japanese Restaurant",
          "Vegetarian / Vegan Restaurant",
          "Restaurant",
          "Thai Restaurant",
          "Food Truck",
          "Café",
          "French Restaurant",
          "Café",
          "Comfort Food Restaurant",
          "Seafood Restaurant",
          "Seafood Restaurant",
          "Pizza Place",
          "Burger Joint",
          "Pizza Place",
          "Restaurant",
          "Diner",
          "Italian Restaurant",
          "Indian Restaurant",
          "Japanese Restaurant",
          "Restaurant",
          "Café",
          "Café",
          "Bakery",
          "Gastropub",
          "Caribbean Restaurant",
          "Restaurant",
          "Bakery",
          "Café",
          "Steakhouse",
          "Restaurant",
          "Café",
          "Café",
          "Gastropub",
          "Deli / Bodega",
          "Café",
          "Theme Restaurant",
          "Mexican Restaurant",
          "Gastropub",
          "Restaurant",
          "Breakfast Spot",
          "Ramen Restaurant",
          "Italian Restaurant",
          "Burger Joint",
          "Creperie",
          "Thai Restaurant",
          "Burrito Place",
          "Pizza Place",
          "Fast Food Restaurant",
          "Restaurant",
          "Fast Food Restaurant",
          "Breakfast Spot",
          "Deli / Bodega",
          "Burger Joint",
          "Wings Joint",
          "Bakery",
          "Restaurant",
          "Burrito Place"
         ],
         "xaxis": "x",
         "yaxis": "y"
        }
       ],
       "layout": {
        "autosize": true,
        "barmode": "relative",
        "legend": {
         "tracegroupgap": 0
        },
        "margin": {
         "t": 60
        },
        "template": {
         "data": {
          "bar": [
           {
            "error_x": {
             "color": "#2a3f5f"
            },
            "error_y": {
             "color": "#2a3f5f"
            },
            "marker": {
             "line": {
              "color": "#E5ECF6",
              "width": 0.5
             }
            },
            "type": "bar"
           }
          ],
          "barpolar": [
           {
            "marker": {
             "line": {
              "color": "#E5ECF6",
              "width": 0.5
             }
            },
            "type": "barpolar"
           }
          ],
          "carpet": [
           {
            "aaxis": {
             "endlinecolor": "#2a3f5f",
             "gridcolor": "white",
             "linecolor": "white",
             "minorgridcolor": "white",
             "startlinecolor": "#2a3f5f"
            },
            "baxis": {
             "endlinecolor": "#2a3f5f",
             "gridcolor": "white",
             "linecolor": "white",
             "minorgridcolor": "white",
             "startlinecolor": "#2a3f5f"
            },
            "type": "carpet"
           }
          ],
          "choropleth": [
           {
            "colorbar": {
             "outlinewidth": 0,
             "ticks": ""
            },
            "type": "choropleth"
           }
          ],
          "contour": [
           {
            "colorbar": {
             "outlinewidth": 0,
             "ticks": ""
            },
            "colorscale": [
             [
              0,
              "#0d0887"
             ],
             [
              0.1111111111111111,
              "#46039f"
             ],
             [
              0.2222222222222222,
              "#7201a8"
             ],
             [
              0.3333333333333333,
              "#9c179e"
             ],
             [
              0.4444444444444444,
              "#bd3786"
             ],
             [
              0.5555555555555556,
              "#d8576b"
             ],
             [
              0.6666666666666666,
              "#ed7953"
             ],
             [
              0.7777777777777778,
              "#fb9f3a"
             ],
             [
              0.8888888888888888,
              "#fdca26"
             ],
             [
              1,
              "#f0f921"
             ]
            ],
            "type": "contour"
           }
          ],
          "contourcarpet": [
           {
            "colorbar": {
             "outlinewidth": 0,
             "ticks": ""
            },
            "type": "contourcarpet"
           }
          ],
          "heatmap": [
           {
            "colorbar": {
             "outlinewidth": 0,
             "ticks": ""
            },
            "colorscale": [
             [
              0,
              "#0d0887"
             ],
             [
              0.1111111111111111,
              "#46039f"
             ],
             [
              0.2222222222222222,
              "#7201a8"
             ],
             [
              0.3333333333333333,
              "#9c179e"
             ],
             [
              0.4444444444444444,
              "#bd3786"
             ],
             [
              0.5555555555555556,
              "#d8576b"
             ],
             [
              0.6666666666666666,
              "#ed7953"
             ],
             [
              0.7777777777777778,
              "#fb9f3a"
             ],
             [
              0.8888888888888888,
              "#fdca26"
             ],
             [
              1,
              "#f0f921"
             ]
            ],
            "type": "heatmap"
           }
          ],
          "heatmapgl": [
           {
            "colorbar": {
             "outlinewidth": 0,
             "ticks": ""
            },
            "colorscale": [
             [
              0,
              "#0d0887"
             ],
             [
              0.1111111111111111,
              "#46039f"
             ],
             [
              0.2222222222222222,
              "#7201a8"
             ],
             [
              0.3333333333333333,
              "#9c179e"
             ],
             [
              0.4444444444444444,
              "#bd3786"
             ],
             [
              0.5555555555555556,
              "#d8576b"
             ],
             [
              0.6666666666666666,
              "#ed7953"
             ],
             [
              0.7777777777777778,
              "#fb9f3a"
             ],
             [
              0.8888888888888888,
              "#fdca26"
             ],
             [
              1,
              "#f0f921"
             ]
            ],
            "type": "heatmapgl"
           }
          ],
          "histogram": [
           {
            "marker": {
             "colorbar": {
              "outlinewidth": 0,
              "ticks": ""
             }
            },
            "type": "histogram"
           }
          ],
          "histogram2d": [
           {
            "colorbar": {
             "outlinewidth": 0,
             "ticks": ""
            },
            "colorscale": [
             [
              0,
              "#0d0887"
             ],
             [
              0.1111111111111111,
              "#46039f"
             ],
             [
              0.2222222222222222,
              "#7201a8"
             ],
             [
              0.3333333333333333,
              "#9c179e"
             ],
             [
              0.4444444444444444,
              "#bd3786"
             ],
             [
              0.5555555555555556,
              "#d8576b"
             ],
             [
              0.6666666666666666,
              "#ed7953"
             ],
             [
              0.7777777777777778,
              "#fb9f3a"
             ],
             [
              0.8888888888888888,
              "#fdca26"
             ],
             [
              1,
              "#f0f921"
             ]
            ],
            "type": "histogram2d"
           }
          ],
          "histogram2dcontour": [
           {
            "colorbar": {
             "outlinewidth": 0,
             "ticks": ""
            },
            "colorscale": [
             [
              0,
              "#0d0887"
             ],
             [
              0.1111111111111111,
              "#46039f"
             ],
             [
              0.2222222222222222,
              "#7201a8"
             ],
             [
              0.3333333333333333,
              "#9c179e"
             ],
             [
              0.4444444444444444,
              "#bd3786"
             ],
             [
              0.5555555555555556,
              "#d8576b"
             ],
             [
              0.6666666666666666,
              "#ed7953"
             ],
             [
              0.7777777777777778,
              "#fb9f3a"
             ],
             [
              0.8888888888888888,
              "#fdca26"
             ],
             [
              1,
              "#f0f921"
             ]
            ],
            "type": "histogram2dcontour"
           }
          ],
          "mesh3d": [
           {
            "colorbar": {
             "outlinewidth": 0,
             "ticks": ""
            },
            "type": "mesh3d"
           }
          ],
          "parcoords": [
           {
            "line": {
             "colorbar": {
              "outlinewidth": 0,
              "ticks": ""
             }
            },
            "type": "parcoords"
           }
          ],
          "pie": [
           {
            "automargin": true,
            "type": "pie"
           }
          ],
          "scatter": [
           {
            "marker": {
             "colorbar": {
              "outlinewidth": 0,
              "ticks": ""
             }
            },
            "type": "scatter"
           }
          ],
          "scatter3d": [
           {
            "line": {
             "colorbar": {
              "outlinewidth": 0,
              "ticks": ""
             }
            },
            "marker": {
             "colorbar": {
              "outlinewidth": 0,
              "ticks": ""
             }
            },
            "type": "scatter3d"
           }
          ],
          "scattercarpet": [
           {
            "marker": {
             "colorbar": {
              "outlinewidth": 0,
              "ticks": ""
             }
            },
            "type": "scattercarpet"
           }
          ],
          "scattergeo": [
           {
            "marker": {
             "colorbar": {
              "outlinewidth": 0,
              "ticks": ""
             }
            },
            "type": "scattergeo"
           }
          ],
          "scattergl": [
           {
            "marker": {
             "colorbar": {
              "outlinewidth": 0,
              "ticks": ""
             }
            },
            "type": "scattergl"
           }
          ],
          "scattermapbox": [
           {
            "marker": {
             "colorbar": {
              "outlinewidth": 0,
              "ticks": ""
             }
            },
            "type": "scattermapbox"
           }
          ],
          "scatterpolar": [
           {
            "marker": {
             "colorbar": {
              "outlinewidth": 0,
              "ticks": ""
             }
            },
            "type": "scatterpolar"
           }
          ],
          "scatterpolargl": [
           {
            "marker": {
             "colorbar": {
              "outlinewidth": 0,
              "ticks": ""
             }
            },
            "type": "scatterpolargl"
           }
          ],
          "scatterternary": [
           {
            "marker": {
             "colorbar": {
              "outlinewidth": 0,
              "ticks": ""
             }
            },
            "type": "scatterternary"
           }
          ],
          "surface": [
           {
            "colorbar": {
             "outlinewidth": 0,
             "ticks": ""
            },
            "colorscale": [
             [
              0,
              "#0d0887"
             ],
             [
              0.1111111111111111,
              "#46039f"
             ],
             [
              0.2222222222222222,
              "#7201a8"
             ],
             [
              0.3333333333333333,
              "#9c179e"
             ],
             [
              0.4444444444444444,
              "#bd3786"
             ],
             [
              0.5555555555555556,
              "#d8576b"
             ],
             [
              0.6666666666666666,
              "#ed7953"
             ],
             [
              0.7777777777777778,
              "#fb9f3a"
             ],
             [
              0.8888888888888888,
              "#fdca26"
             ],
             [
              1,
              "#f0f921"
             ]
            ],
            "type": "surface"
           }
          ],
          "table": [
           {
            "cells": {
             "fill": {
              "color": "#EBF0F8"
             },
             "line": {
              "color": "white"
             }
            },
            "header": {
             "fill": {
              "color": "#C8D4E3"
             },
             "line": {
              "color": "white"
             }
            },
            "type": "table"
           }
          ]
         },
         "layout": {
          "annotationdefaults": {
           "arrowcolor": "#2a3f5f",
           "arrowhead": 0,
           "arrowwidth": 1
          },
          "coloraxis": {
           "colorbar": {
            "outlinewidth": 0,
            "ticks": ""
           }
          },
          "colorscale": {
           "diverging": [
            [
             0,
             "#8e0152"
            ],
            [
             0.1,
             "#c51b7d"
            ],
            [
             0.2,
             "#de77ae"
            ],
            [
             0.3,
             "#f1b6da"
            ],
            [
             0.4,
             "#fde0ef"
            ],
            [
             0.5,
             "#f7f7f7"
            ],
            [
             0.6,
             "#e6f5d0"
            ],
            [
             0.7,
             "#b8e186"
            ],
            [
             0.8,
             "#7fbc41"
            ],
            [
             0.9,
             "#4d9221"
            ],
            [
             1,
             "#276419"
            ]
           ],
           "sequential": [
            [
             0,
             "#0d0887"
            ],
            [
             0.1111111111111111,
             "#46039f"
            ],
            [
             0.2222222222222222,
             "#7201a8"
            ],
            [
             0.3333333333333333,
             "#9c179e"
            ],
            [
             0.4444444444444444,
             "#bd3786"
            ],
            [
             0.5555555555555556,
             "#d8576b"
            ],
            [
             0.6666666666666666,
             "#ed7953"
            ],
            [
             0.7777777777777778,
             "#fb9f3a"
            ],
            [
             0.8888888888888888,
             "#fdca26"
            ],
            [
             1,
             "#f0f921"
            ]
           ],
           "sequentialminus": [
            [
             0,
             "#0d0887"
            ],
            [
             0.1111111111111111,
             "#46039f"
            ],
            [
             0.2222222222222222,
             "#7201a8"
            ],
            [
             0.3333333333333333,
             "#9c179e"
            ],
            [
             0.4444444444444444,
             "#bd3786"
            ],
            [
             0.5555555555555556,
             "#d8576b"
            ],
            [
             0.6666666666666666,
             "#ed7953"
            ],
            [
             0.7777777777777778,
             "#fb9f3a"
            ],
            [
             0.8888888888888888,
             "#fdca26"
            ],
            [
             1,
             "#f0f921"
            ]
           ]
          },
          "colorway": [
           "#636efa",
           "#EF553B",
           "#00cc96",
           "#ab63fa",
           "#FFA15A",
           "#19d3f3",
           "#FF6692",
           "#B6E880",
           "#FF97FF",
           "#FECB52"
          ],
          "font": {
           "color": "#2a3f5f"
          },
          "geo": {
           "bgcolor": "white",
           "lakecolor": "white",
           "landcolor": "#E5ECF6",
           "showlakes": true,
           "showland": true,
           "subunitcolor": "white"
          },
          "hoverlabel": {
           "align": "left"
          },
          "hovermode": "closest",
          "mapbox": {
           "style": "light"
          },
          "paper_bgcolor": "white",
          "plot_bgcolor": "#E5ECF6",
          "polar": {
           "angularaxis": {
            "gridcolor": "white",
            "linecolor": "white",
            "ticks": ""
           },
           "bgcolor": "#E5ECF6",
           "radialaxis": {
            "gridcolor": "white",
            "linecolor": "white",
            "ticks": ""
           }
          },
          "scene": {
           "xaxis": {
            "backgroundcolor": "#E5ECF6",
            "gridcolor": "white",
            "gridwidth": 2,
            "linecolor": "white",
            "showbackground": true,
            "ticks": "",
            "zerolinecolor": "white"
           },
           "yaxis": {
            "backgroundcolor": "#E5ECF6",
            "gridcolor": "white",
            "gridwidth": 2,
            "linecolor": "white",
            "showbackground": true,
            "ticks": "",
            "zerolinecolor": "white"
           },
           "zaxis": {
            "backgroundcolor": "#E5ECF6",
            "gridcolor": "white",
            "gridwidth": 2,
            "linecolor": "white",
            "showbackground": true,
            "ticks": "",
            "zerolinecolor": "white"
           }
          },
          "shapedefaults": {
           "line": {
            "color": "#2a3f5f"
           }
          },
          "ternary": {
           "aaxis": {
            "gridcolor": "white",
            "linecolor": "white",
            "ticks": ""
           },
           "baxis": {
            "gridcolor": "white",
            "linecolor": "white",
            "ticks": ""
           },
           "bgcolor": "#E5ECF6",
           "caxis": {
            "gridcolor": "white",
            "linecolor": "white",
            "ticks": ""
           }
          },
          "title": {
           "x": 0.05
          },
          "xaxis": {
           "automargin": true,
           "gridcolor": "white",
           "linecolor": "white",
           "ticks": "",
           "title": {
            "standoff": 15
           },
           "zerolinecolor": "white",
           "zerolinewidth": 2
          },
          "yaxis": {
           "automargin": true,
           "gridcolor": "white",
           "linecolor": "white",
           "ticks": "",
           "title": {
            "standoff": 15
           },
           "zerolinecolor": "white",
           "zerolinewidth": 2
          }
         }
        },
        "xaxis": {
         "anchor": "y",
         "autorange": true,
         "domain": [
          0,
          1
         ],
         "range": [
          -0.5,
          66.5
         ],
         "title": {
          "text": "Venue Category"
         },
         "type": "category"
        },
        "yaxis": {
         "anchor": "x",
         "autorange": true,
         "domain": [
          0,
          1
         ],
         "range": [
          0,
          63.1578947368421
         ],
         "title": {
          "text": "count"
         }
        }
       }
      },
      "image/png": "[encoded data removed]",
      "text/html": [
       "<div>\n",
       "        \n",
       "        \n",
       "            <div id=\"1d78403b-3fb5-4a51-8943-509dcdbdf279\" class=\"plotly-graph-div\" style=\"height:525px; width:100%;\"></div>\n",
       "            <script type=\"text/javascript\">\n",
       "                require([\"plotly\"], function(Plotly) {\n",
       "                    window.PLOTLYENV=window.PLOTLYENV || {};\n",
       "                    \n",
       "                if (document.getElementById(\"1d78403b-3fb5-4a51-8943-509dcdbdf279\")) {\n",
       "                    Plotly.newPlot(\n",
       "                        '1d78403b-3fb5-4a51-8943-509dcdbdf279',\n",
       "                        [{\"alignmentgroup\": \"True\", \"bingroup\": \"x\", \"hovertemplate\": \"Venue Category=%{x}<br>count=%{y}<extra></extra>\", \"legendgroup\": \"\", \"marker\": {\"color\": \"#636efa\"}, \"name\": \"\", \"offsetgroup\": \"\", \"orientation\": \"v\", \"showlegend\": false, \"type\": \"histogram\", \"x\": [\"Fast Food Restaurant\", \"BBQ Joint\", \"Portuguese Restaurant\", \"French Restaurant\", \"Pizza Place\", \"Breakfast Spot\", \"Restaurant\", \"Breakfast Spot\", \"Bakery\", \"French Restaurant\", \"Caf\\u00e9\", \"Food Truck\", \"Caf\\u00e9\", \"Bakery\", \"Greek Restaurant\", \"Vietnamese Restaurant\", \"Food Truck\", \"Hot Dog Joint\", \"Sushi Restaurant\", \"Italian Restaurant\", \"Creperie\", \"Mexican Restaurant\", \"Burrito Place\", \"Persian Restaurant\", \"Burger Joint\", \"Sushi Restaurant\", \"Diner\", \"Sushi Restaurant\", \"Pizza Place\", \"Fast Food Restaurant\", \"Indian Restaurant\", \"Caribbean Restaurant\", \"Caf\\u00e9\", \"Japanese Restaurant\", \"Restaurant\", \"Gastropub\", \"Pizza Place\", \"Caf\\u00e9\", \"Breakfast Spot\", \"Pizza Place\", \"Fast Food Restaurant\", \"Caf\\u00e9\", \"Burrito Place\", \"Caf\\u00e9\", \"Thai Restaurant\", \"Steakhouse\", \"Mexican Restaurant\", \"Sandwich Place\", \"Caf\\u00e9\", \"Ramen Restaurant\", \"Restaurant\", \"Japanese Restaurant\", \"Asian Restaurant\", \"Sushi Restaurant\", \"Pizza Place\", \"Pizza Place\", \"Filipino Restaurant\", \"Italian Restaurant\", \"Restaurant\", \"Japanese Restaurant\", \"Asian Restaurant\", \"Dim Sum Restaurant\", \"Sandwich Place\", \"Chinese Restaurant\", \"Asian Restaurant\", \"Restaurant\", \"Caf\\u00e9\", \"Diner\", \"Snack Place\", \"Asian Restaurant\", \"Caf\\u00e9\", \"Japanese Restaurant\", \"Restaurant\", \"Creperie\", \"Food Truck\", \"Middle Eastern Restaurant\", \"Gastropub\", \"Gastropub\", \"Italian Restaurant\", \"BBQ Joint\", \"American Restaurant\", \"Restaurant\", \"Caf\\u00e9\", \"Fried Chicken Joint\", \"Deli / Bodega\", \"Bakery\", \"Restaurant\", \"Mexican Restaurant\", \"Breakfast Spot\", \"Pizza Place\", \"Pizza Place\", \"Burger Joint\", \"Asian Restaurant\", \"Restaurant\", \"Vegetarian / Vegan Restaurant\", \"French Restaurant\", \"Seafood Restaurant\", \"Breakfast Spot\", \"Seafood Restaurant\", \"Bistro\", \"Bakery\", \"Thai Restaurant\", \"Caf\\u00e9\", \"Caf\\u00e9\", \"Korean Restaurant\", \"Mexican Restaurant\", \"Indian Restaurant\", \"Fish & Chips Shop\", \"Restaurant\", \"Sushi Restaurant\", \"Burger Joint\", \"Sandwich Place\", \"Burger Joint\", \"Breakfast Spot\", \"Mexican Restaurant\", \"Bagel Shop\", \"Sushi Restaurant\", \"Middle Eastern Restaurant\", \"Modern European Restaurant\", \"Gastropub\", \"Japanese Restaurant\", \"Pizza Place\", \"Italian Restaurant\", \"Ramen Restaurant\", \"Japanese Restaurant\", \"Sushi Restaurant\", \"Chinese Restaurant\", \"Caf\\u00e9\", \"Italian Restaurant\", \"Caf\\u00e9\", \"Diner\", \"Restaurant\", \"Restaurant\", \"Japanese Restaurant\", \"Hakka Restaurant\", \"Caribbean Restaurant\", \"Thai Restaurant\", \"Bakery\", \"Fried Chicken Joint\", \"Fast Food Restaurant\", \"Mediterranean Restaurant\", \"Deli / Bodega\", \"Restaurant\", \"Middle Eastern Restaurant\", \"Diner\", \"Sushi Restaurant\", \"Fried Chicken Joint\", \"Restaurant\", \"Pizza Place\", \"Chinese Restaurant\", \"Indian Restaurant\", \"Burger Joint\", \"Restaurant\", \"Indian Restaurant\", \"Pizza Place\", \"Fast Food Restaurant\", \"Middle Eastern Restaurant\", \"Sandwich Place\", \"Pizza Place\", \"Restaurant\", \"Vegetarian / Vegan Restaurant\", \"Restaurant\", \"Caf\\u00e9\", \"Steakhouse\", \"Seafood Restaurant\", \"Asian Restaurant\", \"Food Court\", \"Greek Restaurant\", \"Pizza Place\", \"Seafood Restaurant\", \"Middle Eastern Restaurant\", \"Bakery\", \"Bakery\", \"Caf\\u00e9\", \"Pizza Place\", \"Portuguese Restaurant\", \"Pizza Place\", \"Brazilian Restaurant\", \"Pizza Place\", \"Bakery\", \"Burger Joint\", \"Restaurant\", \"American Restaurant\", \"Restaurant\", \"Japanese Restaurant\", \"Food Court\", \"Fast Food Restaurant\", \"Asian Restaurant\", \"Burrito Place\", \"Caribbean Restaurant\", \"Pizza Place\", \"Vietnamese Restaurant\", \"Falafel Restaurant\", \"Greek Restaurant\", \"Pizza Place\", \"Salad Place\", \"New American Restaurant\", \"Caf\\u00e9\", \"Japanese Restaurant\", \"Deli / Bodega\", \"Chinese Restaurant\", \"Italian Restaurant\", \"Caf\\u00e9\", \"Bistro\", \"Fried Chicken Joint\", \"Pizza Place\", \"Korean Restaurant\", \"Asian Restaurant\", \"Cuban Restaurant\", \"New American Restaurant\", \"Greek Restaurant\", \"Vietnamese Restaurant\", \"French Restaurant\", \"Japanese Restaurant\", \"Asian Restaurant\", \"Filipino Restaurant\", \"Chinese Restaurant\", \"Restaurant\", \"Chinese Restaurant\", \"Caf\\u00e9\", \"Asian Restaurant\", \"Japanese Restaurant\", \"Snack Place\", \"Greek Restaurant\", \"Italian Restaurant\", \"Greek Restaurant\", \"Greek Restaurant\", \"Italian Restaurant\", \"Restaurant\", \"Pizza Place\", \"Greek Restaurant\", \"Greek Restaurant\", \"Greek Restaurant\", \"Restaurant\", \"Caf\\u00e9\", \"Bakery\", \"Caf\\u00e9\", \"Gastropub\", \"Deli / Bodega\", \"Caf\\u00e9\", \"Japanese Restaurant\", \"Deli / Bodega\", \"Gluten-free Restaurant\", \"Italian Restaurant\", \"Bakery\", \"Caf\\u00e9\", \"Restaurant\", \"Breakfast Spot\", \"Breakfast Spot\", \"Caf\\u00e9\", \"Japanese Restaurant\", \"Sandwich Place\", \"Burrito Place\", \"Restaurant\", \"Bakery\", \"Bakery\", \"Chinese Restaurant\", \"Indian Restaurant\", \"Cafeteria\", \"Asian Restaurant\", \"Fish & Chips Shop\", \"Fast Food Restaurant\", \"Sushi Restaurant\", \"Italian Restaurant\", \"Steakhouse\", \"Burrito Place\", \"Restaurant\", \"Restaurant\", \"Fast Food Restaurant\", \"Pizza Place\", \"Caf\\u00e9\", \"Restaurant\", \"Bakery\", \"Caf\\u00e9\", \"Caf\\u00e9\", \"Caf\\u00e9\", \"Gastropub\", \"Deli / Bodega\", \"Japanese Restaurant\", \"American Restaurant\", \"Bakery\", \"Deli / Bodega\", \"Pizza Place\", \"Food Truck\", \"Caribbean Restaurant\", \"American Restaurant\", \"Korean Restaurant\", \"Food Truck\", \"Restaurant\", \"Bakery\", \"Italian Restaurant\", \"Seafood Restaurant\", \"American Restaurant\", \"Caf\\u00e9\", \"Middle Eastern Restaurant\", \"Comfort Food Restaurant\", \"Caf\\u00e9\", \"Thai Restaurant\", \"Caf\\u00e9\", \"Restaurant\", \"Thai Restaurant\", \"Indian Restaurant\", \"Italian Restaurant\", \"Sushi Restaurant\", \"Comfort Food Restaurant\", \"Greek Restaurant\", \"American Restaurant\", \"Restaurant\", \"Restaurant\", \"Restaurant\", \"Fried Chicken Joint\", \"Fast Food Restaurant\", \"Fast Food Restaurant\", \"Caf\\u00e9\", \"Pizza Place\", \"Japanese Restaurant\", \"Ramen Restaurant\", \"Steakhouse\", \"Indonesian Restaurant\", \"Caf\\u00e9\", \"Japanese Restaurant\", \"Ramen Restaurant\", \"Sushi Restaurant\", \"Sandwich Place\", \"Middle Eastern Restaurant\", \"Restaurant\", \"Dim Sum Restaurant\", \"Caribbean Restaurant\", \"Pizza Place\", \"Restaurant\", \"Breakfast Spot\", \"Indian Restaurant\", \"Chinese Restaurant\", \"Indian Restaurant\", \"Vietnamese Restaurant\", \"Breakfast Spot\", \"Restaurant\", \"Asian Restaurant\", \"Pizza Place\", \"French Restaurant\", \"Restaurant\", \"Restaurant\", \"Sushi Restaurant\", \"Italian Restaurant\", \"Gastropub\", \"Restaurant\", \"Mexican Restaurant\", \"Thai Restaurant\", \"Thai Restaurant\", \"Caf\\u00e9\", \"Diner\", \"Bakery\", \"Cajun / Creole Restaurant\", \"Chinese Restaurant\", \"Restaurant\", \"Sandwich Place\", \"Pizza Place\", \"Middle Eastern Restaurant\", \"Bakery\", \"Breakfast Spot\", \"Restaurant\", \"Middle Eastern Restaurant\", \"Vietnamese Restaurant\", \"Middle Eastern Restaurant\", \"Pizza Place\", \"Pizza Place\", \"Bakery\", \"Diner\", \"Restaurant\", \"Mexican Restaurant\", \"Chinese Restaurant\", \"Fast Food Restaurant\", \"Caf\\u00e9\", \"Italian Restaurant\", \"Seafood Restaurant\", \"Bagel Shop\", \"Indian Restaurant\", \"Caf\\u00e9\", \"American Restaurant\", \"Donut Shop\", \"Vegetarian / Vegan Restaurant\", \"Burger Joint\", \"Middle Eastern Restaurant\", \"BBQ Joint\", \"Caf\\u00e9\", \"Sandwich Place\", \"Cuban Restaurant\", \"Eastern European Restaurant\", \"Italian Restaurant\", \"Restaurant\", \"Breakfast Spot\", \"Deli / Bodega\", \"Breakfast Spot\", \"Burrito Place\", \"Restaurant\", \"Fried Chicken Joint\", \"American Restaurant\", \"Middle Eastern Restaurant\", \"Mediterranean Restaurant\", \"Restaurant\", \"Pizza Place\", \"Breakfast Spot\", \"Latin American Restaurant\", \"Chinese Restaurant\", \"Caf\\u00e9\", \"Indian Restaurant\", \"Pizza Place\", \"Seafood Restaurant\", \"Sushi Restaurant\", \"Italian Restaurant\", \"Italian Restaurant\", \"Thai Restaurant\", \"Sandwich Place\", \"Sushi Restaurant\", \"Japanese Restaurant\", \"Restaurant\", \"Italian Restaurant\", \"French Restaurant\", \"Bakery\", \"Sushi Restaurant\", \"Restaurant\", \"Bakery\", \"Caf\\u00e9\", \"Comfort Food Restaurant\", \"Food\", \"Caf\\u00e9\", \"Fish & Chips Shop\", \"Sushi Restaurant\", \"Burrito Place\", \"Italian Restaurant\", \"Falafel Restaurant\", \"French Restaurant\", \"Sushi Restaurant\", \"Italian Restaurant\", \"Italian Restaurant\", \"Chinese Restaurant\", \"Noodle House\", \"Thai Restaurant\", \"Fried Chicken Joint\", \"Pizza Place\", \"Fast Food Restaurant\", \"Pizza Place\", \"Hot Dog Joint\", \"Restaurant\", \"Italian Restaurant\", \"Bakery\", \"Mexican Restaurant\", \"Caf\\u00e9\", \"Caf\\u00e9\", \"Caf\\u00e9\", \"Vietnamese Restaurant\", \"Vietnamese Restaurant\", \"Caribbean Restaurant\", \"Belgian Restaurant\", \"Mexican Restaurant\", \"Bakery\", \"Asian Restaurant\", \"Sushi Restaurant\", \"Restaurant\", \"American Restaurant\", \"Fried Chicken Joint\", \"Vietnamese Restaurant\", \"Pizza Place\", \"Bagel Shop\", \"Sandwich Place\", \"Tapas Restaurant\", \"American Restaurant\", \"Restaurant\", \"Pizza Place\", \"Bakery\", \"Caf\\u00e9\", \"American Restaurant\", \"Fried Chicken Joint\", \"Seafood Restaurant\", \"Caf\\u00e9\", \"Mexican Restaurant\", \"Pizza Place\", \"Restaurant\", \"Fried Chicken Joint\", \"Pizza Place\", \"Pizza Place\", \"Japanese Restaurant\", \"Chinese Restaurant\", \"Chinese Restaurant\", \"Restaurant\", \"Restaurant\", \"Breakfast Spot\", \"Pizza Place\", \"Noodle House\", \"Fast Food Restaurant\", \"Burger Joint\", \"Japanese Restaurant\", \"Japanese Restaurant\", \"Vegetarian / Vegan Restaurant\", \"Restaurant\", \"Thai Restaurant\", \"Food Truck\", \"Caf\\u00e9\", \"French Restaurant\", \"Caf\\u00e9\", \"Comfort Food Restaurant\", \"Seafood Restaurant\", \"Seafood Restaurant\", \"Pizza Place\", \"Burger Joint\", \"Pizza Place\", \"Restaurant\", \"Diner\", \"Italian Restaurant\", \"Indian Restaurant\", \"Japanese Restaurant\", \"Restaurant\", \"Caf\\u00e9\", \"Caf\\u00e9\", \"Bakery\", \"Gastropub\", \"Caribbean Restaurant\", \"Restaurant\", \"Bakery\", \"Caf\\u00e9\", \"Steakhouse\", \"Restaurant\", \"Caf\\u00e9\", \"Caf\\u00e9\", \"Gastropub\", \"Deli / Bodega\", \"Caf\\u00e9\", \"Theme Restaurant\", \"Mexican Restaurant\", \"Gastropub\", \"Restaurant\", \"Breakfast Spot\", \"Ramen Restaurant\", \"Italian Restaurant\", \"Burger Joint\", \"Creperie\", \"Thai Restaurant\", \"Burrito Place\", \"Pizza Place\", \"Fast Food Restaurant\", \"Restaurant\", \"Fast Food Restaurant\", \"Breakfast Spot\", \"Deli / Bodega\", \"Burger Joint\", \"Wings Joint\", \"Bakery\", \"Restaurant\", \"Burrito Place\"], \"xaxis\": \"x\", \"yaxis\": \"y\"}],\n",
       "                        {\"barmode\": \"relative\", \"legend\": {\"tracegroupgap\": 0}, \"margin\": {\"t\": 60}, \"template\": {\"data\": {\"bar\": [{\"error_x\": {\"color\": \"#2a3f5f\"}, \"error_y\": {\"color\": \"#2a3f5f\"}, \"marker\": {\"line\": {\"color\": \"#E5ECF6\", \"width\": 0.5}}, \"type\": \"bar\"}], \"barpolar\": [{\"marker\": {\"line\": {\"color\": \"#E5ECF6\", \"width\": 0.5}}, \"type\": \"barpolar\"}], \"carpet\": [{\"aaxis\": {\"endlinecolor\": \"#2a3f5f\", \"gridcolor\": \"white\", \"linecolor\": \"white\", \"minorgridcolor\": \"white\", \"startlinecolor\": \"#2a3f5f\"}, \"baxis\": {\"endlinecolor\": \"#2a3f5f\", \"gridcolor\": \"white\", \"linecolor\": \"white\", \"minorgridcolor\": \"white\", \"startlinecolor\": \"#2a3f5f\"}, \"type\": \"carpet\"}], \"choropleth\": [{\"colorbar\": {\"outlinewidth\": 0, \"ticks\": \"\"}, \"type\": \"choropleth\"}], \"contour\": [{\"colorbar\": {\"outlinewidth\": 0, \"ticks\": \"\"}, \"colorscale\": [[0.0, \"#0d0887\"], [0.1111111111111111, \"#46039f\"], [0.2222222222222222, \"#7201a8\"], [0.3333333333333333, \"#9c179e\"], [0.4444444444444444, \"#bd3786\"], [0.5555555555555556, \"#d8576b\"], [0.6666666666666666, \"#ed7953\"], [0.7777777777777778, \"#fb9f3a\"], [0.8888888888888888, \"#fdca26\"], [1.0, \"#f0f921\"]], \"type\": \"contour\"}], \"contourcarpet\": [{\"colorbar\": {\"outlinewidth\": 0, \"ticks\": \"\"}, \"type\": \"contourcarpet\"}], \"heatmap\": [{\"colorbar\": {\"outlinewidth\": 0, \"ticks\": \"\"}, \"colorscale\": [[0.0, \"#0d0887\"], [0.1111111111111111, \"#46039f\"], [0.2222222222222222, \"#7201a8\"], [0.3333333333333333, \"#9c179e\"], [0.4444444444444444, \"#bd3786\"], [0.5555555555555556, \"#d8576b\"], [0.6666666666666666, \"#ed7953\"], [0.7777777777777778, \"#fb9f3a\"], [0.8888888888888888, \"#fdca26\"], [1.0, \"#f0f921\"]], \"type\": \"heatmap\"}], \"heatmapgl\": [{\"colorbar\": {\"outlinewidth\": 0, \"ticks\": \"\"}, \"colorscale\": [[0.0, \"#0d0887\"], [0.1111111111111111, \"#46039f\"], [0.2222222222222222, \"#7201a8\"], [0.3333333333333333, \"#9c179e\"], [0.4444444444444444, \"#bd3786\"], [0.5555555555555556, \"#d8576b\"], [0.6666666666666666, \"#ed7953\"], [0.7777777777777778, \"#fb9f3a\"], [0.8888888888888888, \"#fdca26\"], [1.0, \"#f0f921\"]], \"type\": \"heatmapgl\"}], \"histogram\": [{\"marker\": {\"colorbar\": {\"outlinewidth\": 0, \"ticks\": \"\"}}, \"type\": \"histogram\"}], \"histogram2d\": [{\"colorbar\": {\"outlinewidth\": 0, \"ticks\": \"\"}, \"colorscale\": [[0.0, \"#0d0887\"], [0.1111111111111111, \"#46039f\"], [0.2222222222222222, \"#7201a8\"], [0.3333333333333333, \"#9c179e\"], [0.4444444444444444, \"#bd3786\"], [0.5555555555555556, \"#d8576b\"], [0.6666666666666666, \"#ed7953\"], [0.7777777777777778, \"#fb9f3a\"], [0.8888888888888888, \"#fdca26\"], [1.0, \"#f0f921\"]], \"type\": \"histogram2d\"}], \"histogram2dcontour\": [{\"colorbar\": {\"outlinewidth\": 0, \"ticks\": \"\"}, \"colorscale\": [[0.0, \"#0d0887\"], [0.1111111111111111, \"#46039f\"], [0.2222222222222222, \"#7201a8\"], [0.3333333333333333, \"#9c179e\"], [0.4444444444444444, \"#bd3786\"], [0.5555555555555556, \"#d8576b\"], [0.6666666666666666, \"#ed7953\"], [0.7777777777777778, \"#fb9f3a\"], [0.8888888888888888, \"#fdca26\"], [1.0, \"#f0f921\"]], \"type\": \"histogram2dcontour\"}], \"mesh3d\": [{\"colorbar\": {\"outlinewidth\": 0, \"ticks\": \"\"}, \"type\": \"mesh3d\"}], \"parcoords\": [{\"line\": {\"colorbar\": {\"outlinewidth\": 0, \"ticks\": \"\"}}, \"type\": \"parcoords\"}], \"pie\": [{\"automargin\": true, \"type\": \"pie\"}], \"scatter\": [{\"marker\": {\"colorbar\": {\"outlinewidth\": 0, \"ticks\": \"\"}}, \"type\": \"scatter\"}], \"scatter3d\": [{\"line\": {\"colorbar\": {\"outlinewidth\": 0, \"ticks\": \"\"}}, \"marker\": {\"colorbar\": {\"outlinewidth\": 0, \"ticks\": \"\"}}, \"type\": \"scatter3d\"}], \"scattercarpet\": [{\"marker\": {\"colorbar\": {\"outlinewidth\": 0, \"ticks\": \"\"}}, \"type\": \"scattercarpet\"}], \"scattergeo\": [{\"marker\": {\"colorbar\": {\"outlinewidth\": 0, \"ticks\": \"\"}}, \"type\": \"scattergeo\"}], \"scattergl\": [{\"marker\": {\"colorbar\": {\"outlinewidth\": 0, \"ticks\": \"\"}}, \"type\": \"scattergl\"}], \"scattermapbox\": [{\"marker\": {\"colorbar\": {\"outlinewidth\": 0, \"ticks\": \"\"}}, \"type\": \"scattermapbox\"}], \"scatterpolar\": [{\"marker\": {\"colorbar\": {\"outlinewidth\": 0, \"ticks\": \"\"}}, \"type\": \"scatterpolar\"}], \"scatterpolargl\": [{\"marker\": {\"colorbar\": {\"outlinewidth\": 0, \"ticks\": \"\"}}, \"type\": \"scatterpolargl\"}], \"scatterternary\": [{\"marker\": {\"colorbar\": {\"outlinewidth\": 0, \"ticks\": \"\"}}, \"type\": \"scatterternary\"}], \"surface\": [{\"colorbar\": {\"outlinewidth\": 0, \"ticks\": \"\"}, \"colorscale\": [[0.0, \"#0d0887\"], [0.1111111111111111, \"#46039f\"], [0.2222222222222222, \"#7201a8\"], [0.3333333333333333, \"#9c179e\"], [0.4444444444444444, \"#bd3786\"], [0.5555555555555556, \"#d8576b\"], [0.6666666666666666, \"#ed7953\"], [0.7777777777777778, \"#fb9f3a\"], [0.8888888888888888, \"#fdca26\"], [1.0, \"#f0f921\"]], \"type\": \"surface\"}], \"table\": [{\"cells\": {\"fill\": {\"color\": \"#EBF0F8\"}, \"line\": {\"color\": \"white\"}}, \"header\": {\"fill\": {\"color\": \"#C8D4E3\"}, \"line\": {\"color\": \"white\"}}, \"type\": \"table\"}]}, \"layout\": {\"annotationdefaults\": {\"arrowcolor\": \"#2a3f5f\", \"arrowhead\": 0, \"arrowwidth\": 1}, \"coloraxis\": {\"colorbar\": {\"outlinewidth\": 0, \"ticks\": \"\"}}, \"colorscale\": {\"diverging\": [[0, \"#8e0152\"], [0.1, \"#c51b7d\"], [0.2, \"#de77ae\"], [0.3, \"#f1b6da\"], [0.4, \"#fde0ef\"], [0.5, \"#f7f7f7\"], [0.6, \"#e6f5d0\"], [0.7, \"#b8e186\"], [0.8, \"#7fbc41\"], [0.9, \"#4d9221\"], [1, \"#276419\"]], \"sequential\": [[0.0, \"#0d0887\"], [0.1111111111111111, \"#46039f\"], [0.2222222222222222, \"#7201a8\"], [0.3333333333333333, \"#9c179e\"], [0.4444444444444444, \"#bd3786\"], [0.5555555555555556, \"#d8576b\"], [0.6666666666666666, \"#ed7953\"], [0.7777777777777778, \"#fb9f3a\"], [0.8888888888888888, \"#fdca26\"], [1.0, \"#f0f921\"]], \"sequentialminus\": [[0.0, \"#0d0887\"], [0.1111111111111111, \"#46039f\"], [0.2222222222222222, \"#7201a8\"], [0.3333333333333333, \"#9c179e\"], [0.4444444444444444, \"#bd3786\"], [0.5555555555555556, \"#d8576b\"], [0.6666666666666666, \"#ed7953\"], [0.7777777777777778, \"#fb9f3a\"], [0.8888888888888888, \"#fdca26\"], [1.0, \"#f0f921\"]]}, \"colorway\": [\"#636efa\", \"#EF553B\", \"#00cc96\", \"#ab63fa\", \"#FFA15A\", \"#19d3f3\", \"#FF6692\", \"#B6E880\", \"#FF97FF\", \"#FECB52\"], \"font\": {\"color\": \"#2a3f5f\"}, \"geo\": {\"bgcolor\": \"white\", \"lakecolor\": \"white\", \"landcolor\": \"#E5ECF6\", \"showlakes\": true, \"showland\": true, \"subunitcolor\": \"white\"}, \"hoverlabel\": {\"align\": \"left\"}, \"hovermode\": \"closest\", \"mapbox\": {\"style\": \"light\"}, \"paper_bgcolor\": \"white\", \"plot_bgcolor\": \"#E5ECF6\", \"polar\": {\"angularaxis\": {\"gridcolor\": \"white\", \"linecolor\": \"white\", \"ticks\": \"\"}, \"bgcolor\": \"#E5ECF6\", \"radialaxis\": {\"gridcolor\": \"white\", \"linecolor\": \"white\", \"ticks\": \"\"}}, \"scene\": {\"xaxis\": {\"backgroundcolor\": \"#E5ECF6\", \"gridcolor\": \"white\", \"gridwidth\": 2, \"linecolor\": \"white\", \"showbackground\": true, \"ticks\": \"\", \"zerolinecolor\": \"white\"}, \"yaxis\": {\"backgroundcolor\": \"#E5ECF6\", \"gridcolor\": \"white\", \"gridwidth\": 2, \"linecolor\": \"white\", \"showbackground\": true, \"ticks\": \"\", \"zerolinecolor\": \"white\"}, \"zaxis\": {\"backgroundcolor\": \"#E5ECF6\", \"gridcolor\": \"white\", \"gridwidth\": 2, \"linecolor\": \"white\", \"showbackground\": true, \"ticks\": \"\", \"zerolinecolor\": \"white\"}}, \"shapedefaults\": {\"line\": {\"color\": \"#2a3f5f\"}}, \"ternary\": {\"aaxis\": {\"gridcolor\": \"white\", \"linecolor\": \"white\", \"ticks\": \"\"}, \"baxis\": {\"gridcolor\": \"white\", \"linecolor\": \"white\", \"ticks\": \"\"}, \"bgcolor\": \"#E5ECF6\", \"caxis\": {\"gridcolor\": \"white\", \"linecolor\": \"white\", \"ticks\": \"\"}}, \"title\": {\"x\": 0.05}, \"xaxis\": {\"automargin\": true, \"gridcolor\": \"white\", \"linecolor\": \"white\", \"ticks\": \"\", \"title\": {\"standoff\": 15}, \"zerolinecolor\": \"white\", \"zerolinewidth\": 2}, \"yaxis\": {\"automargin\": true, \"gridcolor\": \"white\", \"linecolor\": \"white\", \"ticks\": \"\", \"title\": {\"standoff\": 15}, \"zerolinecolor\": \"white\", \"zerolinewidth\": 2}}}, \"xaxis\": {\"anchor\": \"y\", \"domain\": [0.0, 1.0], \"title\": {\"text\": \"Venue Category\"}}, \"yaxis\": {\"anchor\": \"x\", \"domain\": [0.0, 1.0], \"title\": {\"text\": \"count\"}}},\n",
       "                        {\"responsive\": true}\n",
       "                    ).then(function(){\n",
       "                            \n",
       "var gd = document.getElementById('1d78403b-3fb5-4a51-8943-509dcdbdf279');\n",
       "var x = new MutationObserver(function (mutations, observer) {{\n",
       "        var display = window.getComputedStyle(gd).display;\n",
       "        if (!display || display === 'none') {{\n",
       "            console.log([gd, 'removed!']);\n",
       "            Plotly.purge(gd);\n",
       "            observer.disconnect();\n",
       "        }}\n",
       "}});\n",
       "\n",
       "// Listen for the removal of the full notebook cells\n",
       "var notebookContainer = gd.closest('#notebook-container');\n",
       "if (notebookContainer) {{\n",
       "    x.observe(notebookContainer, {childList: true});\n",
       "}}\n",
       "\n",
       "// Listen for the clearing of the current output cell\n",
       "var outputEl = gd.closest('.output');\n",
       "if (outputEl) {{\n",
       "    x.observe(outputEl, {childList: true});\n",
       "}}\n",
       "\n",
       "                        })\n",
       "                };\n",
       "                });\n",
       "            </script>\n",
       "        </div>"
      ]
     },
     "metadata": {},
     "output_type": "display_data"
    }
   ],
   "source": [
    "px.histogram(data_frame=venues,x='Venue Category')"
   ]
  },
  {
   "cell_type": "markdown",
   "metadata": {},
   "source": [
    "### How many unique venue categories were in the dataset?"
   ]
  },
  {
   "cell_type": "code",
   "execution_count": null,
   "metadata": {},
   "outputs": [],
   "source": [
    "venues['Venue Category'].nunique()"
   ]
  },
  {
   "cell_type": "code",
   "execution_count": null,
   "metadata": {},
   "outputs": [],
   "source": [
    "venues['Venue Category'].value_counts()"
   ]
  },
  {
   "cell_type": "markdown",
   "metadata": {},
   "source": [
    "- `150` unique venue categories\n",
    "- `Coffee Shop` was appeared to be the most frequent venue category"
   ]
  },
  {
   "cell_type": "markdown",
   "metadata": {},
   "source": [
    "### Most common venues for each neighborhood?"
   ]
  },
  {
   "cell_type": "code",
   "execution_count": null,
   "metadata": {},
   "outputs": [],
   "source": [
    "# one hot encoding\n",
    "toronto_onehot = pd.get_dummies(venues[['Venue Category']], prefix=\"\", prefix_sep=\"\")\n",
    "\n",
    "# add neighborhood column back to dataframe\n",
    "toronto_onehot['Neighborhood'] = venues['Neighborhood']\n",
    "\n",
    "toronto_grouped = toronto_onehot.groupby('Neighborhood').mean().reset_index()\n",
    "toronto_grouped"
   ]
  },
  {
   "cell_type": "code",
   "execution_count": null,
   "metadata": {},
   "outputs": [],
   "source": [
    "def return_most_common_venues(row, num_top_venues):\n",
    "    row_categories = row.iloc[1:]\n",
    "    row_categories_sorted = row_categories.sort_values(ascending=False)\n",
    "    \n",
    "    return row_categories_sorted.index.values[0:num_top_venues]"
   ]
  },
  {
   "cell_type": "code",
   "execution_count": null,
   "metadata": {},
   "outputs": [],
   "source": [
    "num_top_venues = 10\n",
    "\n",
    "indicators = ['st', 'nd', 'rd']\n",
    "\n",
    "# create columns according to number of top venues\n",
    "columns = ['Neighborhood']\n",
    "for ind in np.arange(num_top_venues):\n",
    "    try:\n",
    "        columns.append('{}{} Most Common Venue'.format(ind+1, indicators[ind]))\n",
    "    except:\n",
    "        columns.append('{}th Most Common Venue'.format(ind+1))\n",
    "\n",
    "# create a new dataframe\n",
    "neighborhoods_venues_sorted = pd.DataFrame(columns=columns)\n",
    "neighborhoods_venues_sorted['Neighborhood'] = toronto_grouped['Neighborhood']\n",
    "\n",
    "for ind in np.arange(toronto_grouped.shape[0]):\n",
    "    neighborhoods_venues_sorted.iloc[ind, 1:] = return_most_common_venues(toronto_grouped.iloc[ind, :], num_top_venues)\n",
    "\n",
    "neighborhoods_venues_sorted.head()"
   ]
  },
  {
   "cell_type": "markdown",
   "metadata": {},
   "source": [
    "### Running k-means algorithm to cluster neighborhoods"
   ]
  },
  {
   "cell_type": "code",
   "execution_count": null,
   "metadata": {},
   "outputs": [],
   "source": [
    "from sklearn.cluster import KMeans\n",
    "k = 5\n",
    "toronto_cluster = toronto_grouped.drop('Neighborhood',axis=1)\n",
    "\n",
    "model = KMeans(n_clusters=k,random_state=0)\n",
    "model.fit(toronto_cluster)\n",
    "model.labels_[0:10]"
   ]
  },
  {
   "cell_type": "code",
   "execution_count": null,
   "metadata": {},
   "outputs": [],
   "source": [
    "neighborhoods_venues_sorted.insert(0, 'Cluster Labels', model.labels_)\n",
    "\n",
    "toronto_merged = df_combine\n",
    "toronto_merged = toronto_merged.join(neighborhoods_venues_sorted.set_index('Neighborhood'),on='Neighborhood')\n",
    "toronto_merged"
   ]
  },
  {
   "cell_type": "code",
   "execution_count": null,
   "metadata": {},
   "outputs": [],
   "source": [
    "toronto_merged.dropna(subset=['Cluster Labels'],inplace=True)"
   ]
  },
  {
   "cell_type": "code",
   "execution_count": null,
   "metadata": {},
   "outputs": [],
   "source": [
    "import matplotlib.cm as cm\n",
    "import matplotlib.colors as colors\n",
    "# create map\n",
    "map_clusters = folium.Map(location=[latitude, longitude], zoom_start=11)\n",
    "\n",
    "# set color scheme for the clusters\n",
    "x = np.arange(k)\n",
    "ys = [i + x + (i*x)**2 for i in range(k)]\n",
    "colors_array = cm.rainbow(np.linspace(0, 1, len(ys)))\n",
    "rainbow = [colors.rgb2hex(i) for i in colors_array]\n",
    "\n",
    "# add markers to the map\n",
    "markers_colors = []\n",
    "for lat, lon, poi, cluster in zip(toronto_merged['Latitude'], toronto_merged['Longitude'], toronto_merged['Neighborhood'], toronto_merged['Cluster Labels']):\n",
    "    label = folium.Popup(str(poi) + ' Cluster ' + str(cluster), parse_html=True)\n",
    "    folium.CircleMarker(\n",
    "        [lat, lon],\n",
    "        radius=5,\n",
    "        popup=label,\n",
    "        color=rainbow[int(cluster-1)],\n",
    "        fill=True,\n",
    "        fill_color=rainbow[int(cluster-1)],\n",
    "        fill_opacity=0.7).add_to(map_clusters)\n",
    "       \n",
    "HTML(map_clusters._repr_html_())"
   ]
  },
  {
   "cell_type": "markdown",
   "metadata": {},
   "source": [
    "### Examine each cluster"
   ]
  },
  {
   "cell_type": "code",
   "execution_count": null,
   "metadata": {},
   "outputs": [],
   "source": [
    "toronto_merged.loc[toronto_merged['Cluster Labels'] == 0]"
   ]
  },
  {
   "cell_type": "markdown",
   "metadata": {},
   "source": [
    "- Cluster 0 grouped neighborhoods with common venues like `Park`,`Convenience Store`"
   ]
  },
  {
   "cell_type": "code",
   "execution_count": null,
   "metadata": {},
   "outputs": [],
   "source": [
    "toronto_merged.loc[toronto_merged['Cluster Labels'] == 1]"
   ]
  },
  {
   "cell_type": "markdown",
   "metadata": {},
   "source": [
    "- Cluster 1 grouped neighborhoods with common venues like `Pizza Place`"
   ]
  },
  {
   "cell_type": "code",
   "execution_count": null,
   "metadata": {},
   "outputs": [],
   "source": [
    "toronto_merged.loc[toronto_merged['Cluster Labels'] == 2]"
   ]
  },
  {
   "cell_type": "markdown",
   "metadata": {},
   "source": [
    "- Cluster 2 grouped neighborhoods with common venues like `Donut Shop`,`Drugstore`,`Dog Run`"
   ]
  },
  {
   "cell_type": "code",
   "execution_count": null,
   "metadata": {},
   "outputs": [],
   "source": [
    "toronto_merged.loc[toronto_merged['Cluster Labels'] == 3]"
   ]
  },
  {
   "cell_type": "markdown",
   "metadata": {},
   "source": [
    "- Cluster 3 grouped neighborhoods with common venues like `Gym`,`Cafe`,`Restaurant`"
   ]
  },
  {
   "cell_type": "code",
   "execution_count": null,
   "metadata": {},
   "outputs": [],
   "source": [
    "toronto_merged.loc[toronto_merged['Cluster Labels'] == 4]"
   ]
  },
  {
   "cell_type": "markdown",
   "metadata": {},
   "source": [
    "- Cluster 4 grouped neighborhoods with common venues like `Coffee Shop`"
   ]
  }
 ],
 "metadata": {
  "kernelspec": {
   "display_name": "Python 3",
   "language": "python",
   "name": "python3"
  },
  "language_info": {
   "codemirror_mode": {
    "name": "ipython",
    "version": 3
   },
   "file_extension": ".py",
   "mimetype": "text/x-python",
   "name": "python",
   "nbconvert_exporter": "python",
   "pygments_lexer": "ipython3",
   "version": "3.7.7"
  }
 },
 "nbformat": 4,
 "nbformat_minor": 4
}
